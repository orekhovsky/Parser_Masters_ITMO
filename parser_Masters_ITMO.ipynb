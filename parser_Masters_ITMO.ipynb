{
  "cells": [
    {
      "cell_type": "markdown",
      "source": [
        "## Парсер для списков поступающих на программы магистратуры\n",
        "Код формирует xlsx таблицу со списком поступающих.\n",
        "Вам необходимо лишь заменить ссылку в requests.get() на нужную.\n",
        "\n",
        "Для этого:\n",
        "\n",
        "* Переходите на страницу https://abit.itmo.ru/ratings/master\n",
        "\n",
        "* Выбираете интересующую программу\n",
        "\n",
        "* Копируете ссылку и вставляете в код, запускаете\n",
        "\n",
        "* В файлах появляется эксель таблица, которую можно скачать и отфильтровать"
      ],
      "metadata": {
        "id": "Qx0KuEVV4Jkj"
      }
    },
    {
      "cell_type": "code",
      "execution_count": null,
      "metadata": {
        "id": "jpcOTWih1ray"
      },
      "outputs": [],
      "source": [
        "import re\n",
        "import requests\n",
        "import pandas as pd\n",
        "\n",
        "# замените ссылку в ковычках на страницу списков подавших нужной программы\n",
        "req = requests.get(\"https://abit.itmo.ru/rating/master/budget/1943\")\n",
        "# считываем текст HTML-документа\n",
        "src = req.text\n",
        "\n",
        "def process_string(src):\n",
        "    # Удаляем всё перед первым \"exam_type\"\n",
        "    first_exam_type_index = src.find(\"exam_type\")\n",
        "    if first_exam_type_index == -1:\n",
        "        return []  # \"exam_type\" не найден\n",
        "\n",
        "    cleaned_data = src[first_exam_type_index:]\n",
        "\n",
        "    # Разделяем по строкам, начинающимся с \"exam_type\"\n",
        "    result = re.split(r'(?=exam_type)', cleaned_data)\n",
        "\n",
        "    return result\n",
        "result = process_string(src)\n",
        "\n",
        "# Создаём DataFrame из результата\n",
        "df = pd.DataFrame(result, columns=['exam_data'])\n",
        "\n",
        "\n",
        "# Функция для обработки каждой строки\n",
        "def process_raw_data(raw_data):\n",
        "    # Регулярные выражения для извлечения значений\n",
        "    pattern = re.compile(r'exam_type\":\"(.*?)\".*?diploma_average\":(.*?),.*?position\":(.*?),.*?priority\":(.*?),.*?total_scores\":(.*?),.*?is_send_original\":(.*?),.*?snils\":\"(.*?)\"')\n",
        "    match = pattern.search(raw_data)\n",
        "    if match:\n",
        "        return {\n",
        "            'exam_type': match.group(1),\n",
        "            'diploma_average': float(match.group(2)),\n",
        "            'position': int(match.group(3)),\n",
        "            'priority': int(match.group(4)),\n",
        "            'total_scores': float(match.group(5)),\n",
        "            'is_send_original': match.group(6) == 'true',\n",
        "            'snils': match.group(7)\n",
        "        }\n",
        "    else:\n",
        "        return None\n",
        "\n",
        "# Применение функции ко всем строкам\n",
        "processed_data = df['exam_data'].apply(process_raw_data).dropna()\n",
        "\n",
        "# Создание нового DataFrame\n",
        "new_df = pd.DataFrame(processed_data.tolist())\n",
        "\n",
        "# Установка 'position' в качестве индекса\n",
        "new_df.set_index('position', inplace=True)\n",
        "# Вывод нового DataFrame\n",
        "new_df.to_excel('Списки.xlsx')"
      ]
    },
    {
      "cell_type": "markdown",
      "metadata": {
        "id": "VlGd4aj41ra2"
      },
      "source": []
    }
  ],
  "metadata": {
    "kernelspec": {
      "display_name": "base",
      "language": "python",
      "name": "python3"
    },
    "language_info": {
      "codemirror_mode": {
        "name": "ipython",
        "version": 3
      },
      "file_extension": ".py",
      "mimetype": "text/x-python",
      "name": "python",
      "nbconvert_exporter": "python",
      "pygments_lexer": "ipython3",
      "version": "3.11.7"
    },
    "colab": {
      "provenance": []
    }
  },
  "nbformat": 4,
  "nbformat_minor": 0
}